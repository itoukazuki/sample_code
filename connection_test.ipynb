{
 "cells": [
  {
   "cell_type": "code",
   "execution_count": null,
   "metadata": {},
   "outputs": [],
   "source": [
    "# 接続確認として、指定したパス下に存在するディレクトリとファイルを一覧表示する\n",
    "# 事前準備として、接続先はローカル環境から該当のファイルサーバー等に接続できる事を確認すること\n",
    "\n",
    "import pandas as pd\n",
    "import pathlib\n",
    "\n",
    "## 接続先となるパスで変更してください\n",
    "share = pathlib.WindowsPath(r'\\\\intqa01.hil.ntt.co.jp\\kmag\\KMAGShare\\syakuya\\k-ito')\n",
    "\n",
    "if share.exists():\n",
    "    print(\"指定のファイルもしくはディレクトリが存在しています。\")\n",
    "    print(list(share.glob('*')))  # servername以下のフォルダ、ファイルを列挙\n",
    "else:\n",
    "    print(\"指定のファイルもしくはディレクトリが存在していません。\")\n",
    "\n",
    "# エラーが無ければ、プログラム上から該当のファイルサーバーが確認できている状態"
   ]
  },
  {
   "cell_type": "code",
   "execution_count": null,
   "metadata": {},
   "outputs": [],
   "source": [
    "# データをtsvファイルからデータフレーム型で取得する\n",
    "# 元データを格納するディレクトリと同じディレクトリにtest.tsvを格納し、データフレーム型で取得でき、表示されていればデータ取得も問題なし\n",
    "## 実行前に元データを格納するパスに変更した上で実行してください\n",
    "## test.tsvは以下のディレクトリに格納しています\n",
    "## \\\\intqa01.hil.ntt.co.jp\\kmag\\KMAGShare\\syakuya\\k-ito\\test_file\n",
    "df = pd.read_csv(r'\\\\intqa01.hil.ntt.co.jp\\kmag\\KMAGShare\\syakuya\\k-ito\\test_file\\test.tsv', sep='\\t')\n",
    "df"
   ]
  }
 ],
 "metadata": {
  "interpreter": {
   "hash": "c5202d6b0553eb2084d3d9332e23d59ff9c2d0c242547fd4bd5bb305bbed6af9"
  },
  "kernelspec": {
   "display_name": "Python 3.9.7 ('base')",
   "language": "python",
   "name": "python3"
  },
  "language_info": {
   "codemirror_mode": {
    "name": "ipython",
    "version": 3
   },
   "file_extension": ".py",
   "mimetype": "text/x-python",
   "name": "python",
   "nbconvert_exporter": "python",
   "pygments_lexer": "ipython3",
   "version": "3.9.7"
  },
  "orig_nbformat": 4
 },
 "nbformat": 4,
 "nbformat_minor": 2
}
